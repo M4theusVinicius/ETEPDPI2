{
  "nbformat": 4,
  "nbformat_minor": 0,
  "metadata": {
    "colab": {
      "name": "Atividade02POO.ipynb",
      "provenance": [],
      "authorship_tag": "ABX9TyPSktaoHc37U85vm6lOP4aP",
      "include_colab_link": true
    },
    "kernelspec": {
      "name": "python3",
      "display_name": "Python 3"
    },
    "language_info": {
      "name": "python"
    }
  },
  "cells": [
    {
      "cell_type": "markdown",
      "metadata": {
        "id": "view-in-github",
        "colab_type": "text"
      },
      "source": [
        "<a href=\"https://colab.research.google.com/github/M4theusVinicius/ETEPDPI2/blob/main/Atividade02POO.ipynb\" target=\"_parent\"><img src=\"https://colab.research.google.com/assets/colab-badge.svg\" alt=\"Open In Colab\"/></a>"
      ]
    },
    {
      "cell_type": "code",
      "execution_count": 2,
      "metadata": {
        "id": "MrQbDKzxnWDR",
        "colab": {
          "base_uri": "https://localhost:8080/"
        },
        "outputId": "f2d5e027-455b-478e-f2ef-186b72224557"
      },
      "outputs": [
        {
          "output_type": "stream",
          "name": "stdout",
          "text": [
            "Maria dos Santos\n",
            "Maria\n",
            "10842182403\n",
            "Professor\n",
            "Informatica\n"
          ]
        }
      ],
      "source": [
        "#ETE Porto Digital\n",
        "#Aula 07/04\n",
        "#Matheus Vinícius\n",
        "class Voluntarios:\n",
        " def __init__(self, nome_completo, nome, cpf, cargo, setor):\n",
        "   self.nome_completo = nome_completo\n",
        "   self.nome = nome\n",
        "   self.cpf = cpf\n",
        "   self.cargo = cargo\n",
        "   self.setor = setor\n",
        "\n",
        "maria = Voluntarios('Maria dos Santos', 'Maria', '10842182403', 'Professor', 'Informatica')\n",
        "print( maria.nome_completo + \"\\n\" + maria.nome + \"\\n\" + maria.cpf + \"\\n\" + maria.cargo + \"\\n\" + maria.setor)"
      ]
    },
    {
      "cell_type": "code",
      "source": [
        "class Servicos:\n",
        " def __init__(self, cursos, estagios, doacoes, atv_extra):\n",
        "   self.cursos = cursos\n",
        "   self.estagios = estagios\n",
        "   self.doacoes = doacoes\n",
        "   self.atv_extra = atv_extra\n",
        "\n",
        "maria = Servicos('Informática', 'Tecmico em Informática', '20', 'Dança')\n",
        "print(maria.cursos + \"\\n\" + maria.estagios + \"\\n\" + maria.doacoes + \"\\n\" + maria.atv_extra)"
      ],
      "metadata": {
        "colab": {
          "base_uri": "https://localhost:8080/"
        },
        "id": "mfeHvsl1PZue",
        "outputId": "aa9a41ae-4578-4d6e-c226-27cf6fe28c3b"
      },
      "execution_count": 3,
      "outputs": [
        {
          "output_type": "stream",
          "name": "stdout",
          "text": [
            "Informática\n",
            "Tecmico em Informática\n",
            "20\n",
            "Dança\n"
          ]
        }
      ]
    }
  ]
}